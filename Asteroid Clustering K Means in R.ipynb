{
 "cells": [
  {
   "cell_type": "markdown",
   "metadata": {},
   "source": [
    "# K-Means Clustering with R on Public NASA Asteroid Dataset"
   ]
  },
  {
   "cell_type": "markdown",
   "metadata": {},
   "source": [
    "Today we will see K-Means clustering in R on an asteroid DataSet.<br>\n",
    "There are a total of 3 numeric attributes we will take into account while clustering.<br>\n",
    "\n",
    "The general flow will be:-<br> \n",
    "   1)  Exploratoy data analysis.<br>\n",
    "   2)  An initial clustering run to classify the data.<br>\n",
    "   3)  The Elbow method to determine optimum number of clusters.<br>\n",
    "   4)  Plotting the confusion Matrix with diffent number of clusters and analyzing the effects.<br>\n",
    "   \n",
    "We will then compare cluster number with the family name of the asteroid to judge how well the algorithm has performed.   \n",
    "   \n",
    "\n",
    "\n"
   ]
  },
  {
   "cell_type": "code",
   "execution_count": 1,
   "metadata": {},
   "outputs": [
    {
     "ename": "ERROR",
     "evalue": "Error: package 'bitops' required by 'RCurl' could not be found\n",
     "execution_count": 1,
     "output_type": "error",
     "traceback": [
      "Error: package 'bitops' required by 'RCurl' could not be found\nTraceback:\n",
      "1. library(\"RCurl\")",
      "2. .getRequiredPackages2(pkgInfo, quietly = quietly)",
      "3. stop(gettextf(\"package %s required by %s could not be found\", \n .     sQuote(pkg), sQuote(pkgname)), call. = FALSE, domain = NA)"
     ]
    }
   ],
   "source": [
    "##Load Required Libraries\n",
    "library('RCurl')\n",
    "library('dplyr')\n",
    "library('ggplot2')\n",
    "library('scales')"
   ]
  },
  {
   "cell_type": "code",
   "execution_count": 2,
   "metadata": {},
   "outputs": [],
   "source": [
    "##Read in the data\n",
    "data.url <- \"https://sbnarchive.psi.edu/pds3/non_mission/EAR_A_5_DDR_FAMILY_V3_0/data/family.tab\" \n",
    "vec.widths <- c(6,11,8,7,7,32,5,2)\n",
    "asterois.df <- read.fwf(file=url(data.url), header = F, widths = vec.widths )"
   ]
  },
  {
   "cell_type": "markdown",
   "metadata": {},
   "source": [
    "As shown in the below data frame we will use the below three numerical attributes for clustering:-<br>\n",
    "\n",
    "   1) Proper_semimajor_axis<br>\n",
    "   2) Proper_eccentricity <br>\n",
    "   3) Sine_of_proper_inclination<br>\n",
    "   "
   ]
  },
  {
   "cell_type": "code",
   "execution_count": 3,
   "metadata": {},
   "outputs": [
    {
     "data": {
      "text/html": [
       "<table>\n",
       "<thead><tr><th scope=col>Asteroid_catalog_number</th><th scope=col>Asteroid_provisional_designation</th><th scope=col>Proper_semimajor_axis</th><th scope=col>Proper_eccentricity</th><th scope=col>Sine_of_proper_inclination</th><th scope=col>Family_Name</th><th scope=col>Clump_Flag</th><th scope=col>Confidence_Level</th></tr></thead>\n",
       "<tbody>\n",
       "\t<tr><td>1                               </td><td>                                </td><td>2.76709                         </td><td>0.1150                          </td><td>0.1678                          </td><td>       Ceres                    </td><td> F                              </td><td> 2                              </td></tr>\n",
       "\t<tr><td>3                               </td><td>                                </td><td>2.66940                         </td><td>0.2320                          </td><td>0.2308                          </td><td>       Juno                     </td><td> C                              </td><td>NA                              </td></tr>\n",
       "\t<tr><td>4                               </td><td>                                </td><td>2.36146                         </td><td>0.0986                          </td><td>0.1107                          </td><td>       Vesta                    </td><td> F                              </td><td> 3                              </td></tr>\n",
       "\t<tr><td>5                               </td><td>                                </td><td>2.57624                         </td><td>0.2289                          </td><td>0.0787                          </td><td>                                </td><td>                                </td><td>NA                              </td></tr>\n",
       "\t<tr><td>6                               </td><td>                                </td><td>2.42533                         </td><td>0.1624                          </td><td>0.2450                          </td><td>                                </td><td>                                </td><td>NA                              </td></tr>\n",
       "\t<tr><td>7                               </td><td>                                </td><td>2.38614                         </td><td>0.2120                          </td><td>0.1103                          </td><td>                                </td><td>                                </td><td>NA                              </td></tr>\n",
       "</tbody>\n",
       "</table>\n"
      ],
      "text/latex": [
       "\\begin{tabular}{r|llllllll}\n",
       " Asteroid\\_catalog\\_number & Asteroid\\_provisional\\_designation & Proper\\_semimajor\\_axis & Proper\\_eccentricity & Sine\\_of\\_proper\\_inclination & Family\\_Name & Clump\\_Flag & Confidence\\_Level\\\\\n",
       "\\hline\n",
       "\t 1                                &                                  & 2.76709                          & 0.1150                           & 0.1678                           &        Ceres                     &  F                               &  2                              \\\\\n",
       "\t 3                                &                                  & 2.66940                          & 0.2320                           & 0.2308                           &        Juno                      &  C                               & NA                              \\\\\n",
       "\t 4                                &                                  & 2.36146                          & 0.0986                           & 0.1107                           &        Vesta                     &  F                               &  3                              \\\\\n",
       "\t 5                                &                                  & 2.57624                          & 0.2289                           & 0.0787                           &                                  &                                  & NA                              \\\\\n",
       "\t 6                                &                                  & 2.42533                          & 0.1624                           & 0.2450                           &                                  &                                  & NA                              \\\\\n",
       "\t 7                                &                                  & 2.38614                          & 0.2120                           & 0.1103                           &                                  &                                  & NA                              \\\\\n",
       "\\end{tabular}\n"
      ],
      "text/markdown": [
       "\n",
       "Asteroid_catalog_number | Asteroid_provisional_designation | Proper_semimajor_axis | Proper_eccentricity | Sine_of_proper_inclination | Family_Name | Clump_Flag | Confidence_Level | \n",
       "|---|---|---|---|---|---|\n",
       "| 1                                |                                  | 2.76709                          | 0.1150                           | 0.1678                           |        Ceres                     |  F                               |  2                               | \n",
       "| 3                                |                                  | 2.66940                          | 0.2320                           | 0.2308                           |        Juno                      |  C                               | NA                               | \n",
       "| 4                                |                                  | 2.36146                          | 0.0986                           | 0.1107                           |        Vesta                     |  F                               |  3                               | \n",
       "| 5                                |                                  | 2.57624                          | 0.2289                           | 0.0787                           |                                  |                                  | NA                               | \n",
       "| 6                                |                                  | 2.42533                          | 0.1624                           | 0.2450                           |                                  |                                  | NA                               | \n",
       "| 7                                |                                  | 2.38614                          | 0.2120                           | 0.1103                           |                                  |                                  | NA                               | \n",
       "\n",
       "\n"
      ],
      "text/plain": [
       "  Asteroid_catalog_number Asteroid_provisional_designation\n",
       "1 1                                                       \n",
       "2 3                                                       \n",
       "3 4                                                       \n",
       "4 5                                                       \n",
       "5 6                                                       \n",
       "6 7                                                       \n",
       "  Proper_semimajor_axis Proper_eccentricity Sine_of_proper_inclination\n",
       "1 2.76709               0.1150              0.1678                    \n",
       "2 2.66940               0.2320              0.2308                    \n",
       "3 2.36146               0.0986              0.1107                    \n",
       "4 2.57624               0.2289              0.0787                    \n",
       "5 2.42533               0.1624              0.2450                    \n",
       "6 2.38614               0.2120              0.1103                    \n",
       "  Family_Name                      Clump_Flag Confidence_Level\n",
       "1        Ceres                      F          2              \n",
       "2        Juno                       C         NA              \n",
       "3        Vesta                      F          3              \n",
       "4                                             NA              \n",
       "5                                             NA              \n",
       "6                                             NA              "
      ]
     },
     "metadata": {},
     "output_type": "display_data"
    }
   ],
   "source": [
    "#Renaming the column names\n",
    "colnames(asterois.df) <- c(\"Asteroid_catalog_number\",\n",
    "                           \"Asteroid_provisional_designation\",\n",
    "                           \"Proper_semimajor_axis\",\n",
    "                           \"Proper_eccentricity\",\n",
    "                           \"Sine_of_proper_inclination\",\n",
    "                           \"Family_Name\",\n",
    "                           \"Clump_Flag\",\n",
    "                           \"Confidence_Level\"\n",
    "                          )\n",
    "head(asterois.df)"
   ]
  },
  {
   "cell_type": "code",
   "execution_count": 4,
   "metadata": {},
   "outputs": [
    {
     "data": {
      "text/plain": [
       " Proper_semimajor_axis Proper_eccentricity Sine_of_proper_inclination\n",
       " Min.   :2.104         Min.   :0.0048      Min.   :0.0031            \n",
       " 1st Qu.:2.342         1st Qu.:0.0972      1st Qu.:0.0542            \n",
       " Median :2.575         Median :0.1417      Median :0.0972            \n",
       " Mean   :2.616         Mean   :0.1390      Mean   :0.1136            \n",
       " 3rd Qu.:2.866         3rd Qu.:0.1750      3rd Qu.:0.1658            \n",
       " Max.   :3.258         Max.   :0.2996      Max.   :0.2996            "
      ]
     },
     "metadata": {},
     "output_type": "display_data"
    }
   ],
   "source": [
    "##Printing out the summaries\n",
    "summary(asterois.df[, c(3,4,5)])"
   ]
  },
  {
   "cell_type": "markdown",
   "metadata": {},
   "source": [
    "As seen from the below cells there are a total of 64 families.<br>\n",
    "As a result we will consider only the top 6 asteroid families by count."
   ]
  },
  {
   "cell_type": "code",
   "execution_count": 5,
   "metadata": {},
   "outputs": [
    {
     "data": {
      "text/html": [
       "<table>\n",
       "<thead><tr><th></th><th scope=col>Family_Name</th><th scope=col>Counts</th></tr></thead>\n",
       "<tbody>\n",
       "\t<tr><th scope=row>1</th><td>                                </td><td>7328                            </td></tr>\n",
       "\t<tr><th scope=row>28</th><td>       Flora                    </td><td>1027                            </td></tr>\n",
       "\t<tr><th scope=row>57</th><td>       Themis                   </td><td> 578                            </td></tr>\n",
       "\t<tr><th scope=row>24</th><td>       Eos                      </td><td> 524                            </td></tr>\n",
       "\t<tr><th scope=row>26</th><td>       Eunomia                  </td><td> 522                            </td></tr>\n",
       "\t<tr><th scope=row>50</th><td>       Nysa                     </td><td> 500                            </td></tr>\n",
       "</tbody>\n",
       "</table>\n"
      ],
      "text/latex": [
       "\\begin{tabular}{r|ll}\n",
       "  & Family\\_Name & Counts\\\\\n",
       "\\hline\n",
       "\t1 &                                  & 7328                            \\\\\n",
       "\t28 &        Flora                     & 1027                            \\\\\n",
       "\t57 &        Themis                    &  578                            \\\\\n",
       "\t24 &        Eos                       &  524                            \\\\\n",
       "\t26 &        Eunomia                   &  522                            \\\\\n",
       "\t50 &        Nysa                      &  500                            \\\\\n",
       "\\end{tabular}\n"
      ],
      "text/markdown": [
       "\n",
       "| <!--/--> | Family_Name | Counts | \n",
       "|---|---|---|---|---|---|\n",
       "| 1 |                                  | 7328                             | \n",
       "| 28 |        Flora                     | 1027                             | \n",
       "| 57 |        Themis                    |  578                             | \n",
       "| 24 |        Eos                       |  524                             | \n",
       "| 26 |        Eunomia                   |  522                             | \n",
       "| 50 |        Nysa                      |  500                             | \n",
       "\n",
       "\n"
      ],
      "text/plain": [
       "   Family_Name                      Counts\n",
       "1                                   7328  \n",
       "28        Flora                     1027  \n",
       "57        Themis                     578  \n",
       "24        Eos                        524  \n",
       "26        Eunomia                    522  \n",
       "50        Nysa                       500  "
      ]
     },
     "metadata": {},
     "output_type": "display_data"
    }
   ],
   "source": [
    "## As building a graph is not possible \n",
    "## We see first 5 highest number of asteroids\n",
    "table.df <- as.data.frame(table(asterois.df$Family_Name))\n",
    "colnames(table.df) <- c(\"Family_Name\",\"Counts\")\n",
    "table.df <- table.df[rev(order(table.df$Counts)),]\n",
    "head(table.df)"
   ]
  },
  {
   "cell_type": "code",
   "execution_count": 6,
   "metadata": {},
   "outputs": [
    {
     "data": {
      "text/html": [
       "64"
      ],
      "text/latex": [
       "64"
      ],
      "text/markdown": [
       "64"
      ],
      "text/plain": [
       "[1] 64"
      ]
     },
     "metadata": {},
     "output_type": "display_data"
    }
   ],
   "source": [
    "##Getting an idea of number of different familes\n",
    "nrow(table.df)"
   ]
  },
  {
   "cell_type": "code",
   "execution_count": 7,
   "metadata": {},
   "outputs": [
    {
     "data": {
      "text/html": [
       "<table>\n",
       "<thead><tr><th></th><th scope=col>Family_Name</th><th scope=col>Counts</th></tr></thead>\n",
       "<tbody>\n",
       "\t<tr><th scope=row>28</th><td>       Flora                    </td><td>1027                            </td></tr>\n",
       "\t<tr><th scope=row>57</th><td>       Themis                   </td><td> 578                            </td></tr>\n",
       "\t<tr><th scope=row>24</th><td>       Eos                      </td><td> 524                            </td></tr>\n",
       "\t<tr><th scope=row>26</th><td>       Eunomia                  </td><td> 522                            </td></tr>\n",
       "\t<tr><th scope=row>50</th><td>       Nysa                     </td><td> 500                            </td></tr>\n",
       "\t<tr><th scope=row>62</th><td>       Vesta                    </td><td> 372                            </td></tr>\n",
       "</tbody>\n",
       "</table>\n"
      ],
      "text/latex": [
       "\\begin{tabular}{r|ll}\n",
       "  & Family\\_Name & Counts\\\\\n",
       "\\hline\n",
       "\t28 &        Flora                     & 1027                            \\\\\n",
       "\t57 &        Themis                    &  578                            \\\\\n",
       "\t24 &        Eos                       &  524                            \\\\\n",
       "\t26 &        Eunomia                   &  522                            \\\\\n",
       "\t50 &        Nysa                      &  500                            \\\\\n",
       "\t62 &        Vesta                     &  372                            \\\\\n",
       "\\end{tabular}\n"
      ],
      "text/markdown": [
       "\n",
       "| <!--/--> | Family_Name | Counts | \n",
       "|---|---|---|---|---|---|\n",
       "| 28 |        Flora                     | 1027                             | \n",
       "| 57 |        Themis                    |  578                             | \n",
       "| 24 |        Eos                       |  524                             | \n",
       "| 26 |        Eunomia                   |  522                             | \n",
       "| 50 |        Nysa                      |  500                             | \n",
       "| 62 |        Vesta                     |  372                             | \n",
       "\n",
       "\n"
      ],
      "text/plain": [
       "   Family_Name                      Counts\n",
       "28        Flora                     1027  \n",
       "57        Themis                     578  \n",
       "24        Eos                        524  \n",
       "26        Eunomia                    522  \n",
       "50        Nysa                       500  \n",
       "62        Vesta                      372  "
      ]
     },
     "metadata": {},
     "output_type": "display_data"
    }
   ],
   "source": [
    "##We will take only the top six records for clustering\n",
    "df.top.six <- table.df[2:7,]\n",
    "df.top.six\n",
    "\n",
    "df.top.six.complete <- as.data.frame(asterois.df[asterois.df$Family_Name %in% df.top.six$Family_Name ,])\n",
    "##table(df.top.six.complete$Family_Name) "
   ]
  },
  {
   "cell_type": "markdown",
   "metadata": {},
   "source": [
    "The boxplot below allows us to easily compare and visualize the measures between the 6 asteroid families"
   ]
  },
  {
   "cell_type": "code",
   "execution_count": 8,
   "metadata": {},
   "outputs": [
    {
     "name": "stderr",
     "output_type": "stream",
     "text": [
      "Loading required package: gridExtra\n"
     ]
    },
    {
     "data": {
      "image/png": "[encoded data removed]",
      "text/plain": [
       "plot without title"
      ]
     },
     "metadata": {},
     "output_type": "display_data",
     "source": "R display func"
    }
   ],
   "source": [
    "####Box Plot to get idea of differences in families\n",
    "require(gridExtra)\n",
    "library(ggplot2)\n",
    "\n",
    "options(repr.plot.width=12, repr.plot.height=8)\n",
    "plot1 <- ggplot(df.top.six.complete, aes(x = df.top.six.complete$Family_Name , y = df.top.six.complete$Proper_semimajor_axis, fill = df.top.six.complete$Family_Name)) + \n",
    "  geom_boxplot()+xlab(\"Asteroid Family Name\")+ylab(\"Proper semimajor Axis\")+ labs(fill=\"Asteroid Family Name\") \n",
    "plot2 <- ggplot(df.top.six.complete, aes(x = df.top.six.complete$Family_Name , y = df.top.six.complete$Proper_eccentricity, fill = df.top.six.complete$Family_Name)) + \n",
    "  geom_boxplot()+xlab(\"Asteroid Family Name\")+ylab(\"Proper Eccentricity\")+ labs(fill=\"Asteroid Family Name\") \n",
    "plot3 <- ggplot(df.top.six.complete, aes(x = df.top.six.complete$Family_Name , y = df.top.six.complete$Sine_of_proper_inclination, fill = df.top.six.complete$Family_Name)) + \n",
    "  geom_boxplot()+xlab(\"Asteroid Family Name\")+ylab(\"Sine of proper inclination\")+ labs(fill=\"Asteroid Family Name\")   \n",
    "grid.arrange(plot1, plot2, plot3 , ncol=2 , nrow =2)"
   ]
  },
  {
   "cell_type": "markdown",
   "metadata": {},
   "source": [
    "### Brief steps to K-Means clustering algorithm \n",
    "\n",
    "Before diving into K-Means let us perform a quick summary of the steps involved:-<br>\n",
    " 1) Randomly initialize the centroids.<br>\n",
    "    There number of centroids will be equal to the number of clusters.<br>\n",
    "    \n",
    " 2) Take an observation and calculate its distance to all of the centroids.<br>\n",
    " \n",
    " 3) Assign the observation to the centroid group closest to it.<br>\n",
    "    The observation now becomes a part of that cluster.<br>\n",
    "    \n",
    " 4) Recompute the centroids.<br>\n",
    " \n",
    " Steps 1-4 are repeated iteratively till some stopping criteris i.e. no data points change clusters or the distance between the previous and newly recomputed centroids do not change.<br>\n",
    "    \n",
    " \n",
    "\n",
    "\n",
    "\n",
    "We finally start the clustering."
   ]
  },
  {
   "cell_type": "code",
   "execution_count": 9,
   "metadata": {},
   "outputs": [
    {
     "name": "stdout",
     "output_type": "stream",
     "text": [
      "List of 9\n",
      " $ cluster     : Named int [1:3523] 6 3 2 1 3 6 1 5 2 1 ...\n",
      "  ..- attr(*, \"names\")= chr [1:3523] \"3\" \"7\" \"14\" \"23\" ...\n",
      " $ centers     : num [1:6, 1:3] 3.15 2.66 2.25 3.02 2.6 ...\n",
      "  ..- attr(*, \"dimnames\")=List of 2\n",
      "  .. ..$ : chr [1:6] \"1\" \"2\" \"3\" \"4\" ...\n",
      "  .. ..$ : chr [1:3] \"Proper_semimajor_axis\" \"Proper_eccentricity\" \"Sine_of_proper_inclination\"\n",
      " $ totss       : num 464\n",
      " $ withinss    : num [1:6] 1.001 0.11 2.304 0.393 0.253 ...\n",
      " $ tot.withinss: num 7.15\n",
      " $ betweenss   : num 457\n",
      " $ size        : int [1:6] 578 195 1126 524 327 773\n",
      " $ iter        : int 2\n",
      " $ ifault      : int 0\n",
      " - attr(*, \"class\")= chr \"kmeans\"\n"
     ]
    }
   ],
   "source": [
    "## Begining  k means clustering in R\n",
    "set.seed(40)\n",
    "clusters <- kmeans(df.top.six.complete[,3:5], 6)\n",
    "df.top.six.complete$cluster.num <- as.factor(clusters$cluster)\n",
    "str(clusters)"
   ]
  },
  {
   "cell_type": "code",
   "execution_count": 10,
   "metadata": {},
   "outputs": [
    {
     "data": {
      "text/html": [
       "<table>\n",
       "<thead><tr><th scope=col>Cluster Number</th><th scope=col>Count</th></tr></thead>\n",
       "<tbody>\n",
       "\t<tr><td>1   </td><td> 578</td></tr>\n",
       "\t<tr><td>2   </td><td> 195</td></tr>\n",
       "\t<tr><td>3   </td><td>1126</td></tr>\n",
       "\t<tr><td>4   </td><td> 524</td></tr>\n",
       "\t<tr><td>5   </td><td> 327</td></tr>\n",
       "\t<tr><td>6   </td><td> 773</td></tr>\n",
       "</tbody>\n",
       "</table>\n"
      ],
      "text/latex": [
       "\\begin{tabular}{r|ll}\n",
       " Cluster Number & Count\\\\\n",
       "\\hline\n",
       "\t 1    &  578\\\\\n",
       "\t 2    &  195\\\\\n",
       "\t 3    & 1126\\\\\n",
       "\t 4    &  524\\\\\n",
       "\t 5    &  327\\\\\n",
       "\t 6    &  773\\\\\n",
       "\\end{tabular}\n"
      ],
      "text/markdown": [
       "\n",
       "Cluster Number | Count | \n",
       "|---|---|---|---|---|---|\n",
       "| 1    |  578 | \n",
       "| 2    |  195 | \n",
       "| 3    | 1126 | \n",
       "| 4    |  524 | \n",
       "| 5    |  327 | \n",
       "| 6    |  773 | \n",
       "\n",
       "\n"
      ],
      "text/plain": [
       "  Cluster Number Count\n",
       "1 1               578 \n",
       "2 2               195 \n",
       "3 3              1126 \n",
       "4 4               524 \n",
       "5 5               327 \n",
       "6 6               773 "
      ]
     },
     "metadata": {},
     "output_type": "display_data"
    }
   ],
   "source": [
    "##quickly display head and table\n",
    "df.table <- as.data.frame(table(df.top.six.complete$cluster.num))\n",
    "colnames(df.table)<-c(\"Cluster Number\",\"Count\")\n",
    "df.table"
   ]
  },
  {
   "cell_type": "code",
   "execution_count": 11,
   "metadata": {},
   "outputs": [],
   "source": [
    "df.test<- as.data.frame(table(df.top.six.complete$Family_Name,df.top.six.complete$cluster.num)) \n",
    "df.test <- df.test[df.test$Var1 %in%  df.top.six$Family_Name ,]\n",
    "df.test$Var2 <- factor(df.test$Var2)"
   ]
  },
  {
   "cell_type": "code",
   "execution_count": 12,
   "metadata": {},
   "outputs": [
    {
     "data": {},
     "metadata": {},
     "output_type": "display_data"
    },
    {
     "data": {
      "image/png": "[encoded data removed]",
      "text/plain": [
       "plot without title"
      ]
     },
     "metadata": {},
     "output_type": "display_data",
     "source": "R display func"
    }
   ],
   "source": [
    "## plot data\n",
    "options(repr.plot.width=6, repr.plot.height=4)\n",
    "\n",
    "ggplot(df.test, aes(df.test$Var1, df.test$Var2)) +\n",
    "    geom_tile(aes(fill = df.test$Freq)) + \n",
    "    geom_text(aes(label = round(df.test$Freq, 1))) +\n",
    "    scale_fill_gradient(low = \"white\", high = \"green\") + \n",
    "    labs(x = \"Asteroid Family Name\" , y = \"Cluster Number\" , fill = \"Frequency\")"
   ]
  },
  {
   "cell_type": "markdown",
   "metadata": {},
   "source": [
    "From the confusion matrix we can draw the following conclusions:-<br>\n",
    " \n",
    "   1) Eos is correctly classified in Cluster 4.<br>\n",
    "   2) Eunomia is split across 2 Clusters 2&5.<br>\n",
    "   3) Flora is classified in cluster 3.<br>\n",
    "   4) Nysa is again correctly classified altogether in cluster 6.<br>\n",
    "   5) Themis is clssified in cluster 1.<br>\n",
    "   6) Vesta is not getting correctly classified.It is mixed with Flora and Nysa.<br>\n",
    "   \n",
    "   \n"
   ]
  },
  {
   "cell_type": "markdown",
   "metadata": {},
   "source": [
    "### The Elbow Method for optimum number of clusters.\n",
    "\n",
    "Here we will explore the elbow method to decide on the optimum number of clusters.<br>\n",
    "As will be seen in the graph the parameter tot.withinss is high dropping of rapidly as the number of clusters increase.<br>\n",
    "The inflection point where the drop decreases gives us the optimum number of clusters.<br>\n",
    "\n",
    "\n"
   ]
  },
  {
   "cell_type": "code",
   "execution_count": 13,
   "metadata": {},
   "outputs": [],
   "source": [
    "####  Use Elbow method to get optimum number of clusters\n",
    "set.seed(40)\n",
    "kmean_withinss <- function(k) {\n",
    "    clusters <- kmeans(df.top.six.complete[,3:5], k)\n",
    "    return (clusters$tot.withinss)\n",
    "}\n",
    "# Set maximum cluster \n",
    "max_k <-10\n",
    "# Run algorithm over a range of k \n",
    "wss <- sapply(1:max_k, kmean_withinss)\n",
    "# Create a data frame to plot the graph\n",
    "elbow <-data.frame(1:max_k, wss)"
   ]
  },
  {
   "cell_type": "code",
   "execution_count": 14,
   "metadata": {},
   "outputs": [
    {
     "data": {},
     "metadata": {},
     "output_type": "display_data"
    },
    {
     "data": {
      "image/png": "[encoded data removed]",
      "text/plain": [
       "plot without title"
      ]
     },
     "metadata": {},
     "output_type": "display_data",
     "source": "R display func"
    }
   ],
   "source": [
    "# Plot the graph with gglopt\n",
    "options(repr.plot.width=6, repr.plot.height=4)\n",
    "\n",
    "ggplot(elbow, aes(x = X1.max_k, y = wss)) +\n",
    "    geom_point() +\n",
    "    geom_line() +\n",
    "    scale_x_continuous(breaks = seq(1, 20, by = 1))+\n",
    "     labs(y = \"Sum of Squares within\" , x = \"Number of Clusters\")"
   ]
  },
  {
   "cell_type": "markdown",
   "metadata": {},
   "source": [
    "Here we see 5 would br the optmimum number of clusters.<br>\n",
    "\n",
    "However there is a slight increase between 5 & 8.<br>\n",
    "Lets perform the clustering and plot confusion matrix for these cluster numbers.<br>"
   ]
  },
  {
   "cell_type": "code",
   "execution_count": 15,
   "metadata": {},
   "outputs": [],
   "source": [
    "### Exploring options between 5 & 8\n",
    "## Begining  k means clustering in R\n",
    "\n",
    "#### 5 Clusters \n",
    "set.seed(40)\n",
    "clusters <- kmeans(df.top.six.complete[,3:5], 5)\n",
    "df.top.six.complete$cluster.num <- as.factor(clusters$cluster)\n",
    "\n",
    "df.test5 <- as.data.frame(table(df.top.six.complete$Family_Name,df.top.six.complete$cluster.num)) \n",
    "df.test5 <- df.test5[df.test5$Var1 %in%  df.top.six$Family_Name ,]\n",
    "df.test5$Var2 <- factor(df.test5$Var2)\n",
    "\n",
    "#### 6 Clusters \n",
    "set.seed(40)\n",
    "clusters <- kmeans(df.top.six.complete[,3:5], 6)\n",
    "df.top.six.complete$cluster.num <- as.factor(clusters$cluster)\n",
    "\n",
    "df.test6<- as.data.frame(table(df.top.six.complete$Family_Name,df.top.six.complete$cluster.num)) \n",
    "df.test6 <- df.test6[df.test6$Var1 %in%  df.top.six$Family_Name ,]\n",
    "df.test6$Var2 <- factor(df.test6$Var2)\n",
    "\n",
    "#### 7 Clusters \n",
    "set.seed(40)\n",
    "clusters <- kmeans(df.top.six.complete[,3:5], 7)\n",
    "df.top.six.complete$cluster.num <- as.factor(clusters$cluster)\n",
    "\n",
    "df.test7 <- as.data.frame(table(df.top.six.complete$Family_Name,df.top.six.complete$cluster.num)) \n",
    "df.test7 <- df.test7[df.test7$Var1 %in%  df.top.six$Family_Name ,]\n",
    "df.test7$Var2 <- factor(df.test7$Var2)\n",
    "\n",
    "\n",
    "#### 8 Clusters \n",
    "set.seed(40)\n",
    "clusters <- kmeans(df.top.six.complete[,3:5], 8)\n",
    "df.top.six.complete$cluster.num <- as.factor(clusters$cluster)\n",
    "\n",
    "df.test8<- as.data.frame(table(df.top.six.complete$Family_Name,df.top.six.complete$cluster.num)) \n",
    "df.test8 <- df.test8[df.test8$Var1 %in%  df.top.six$Family_Name ,]\n",
    "df.test8$Var2 <- factor(df.test8$Var2)\n",
    "\n"
   ]
  },
  {
   "cell_type": "code",
   "execution_count": 16,
   "metadata": {},
   "outputs": [],
   "source": [
    "df.test5[\"Number_of_Clusters\"] = 5\n",
    "df.test6[\"Number_of_Clusters\"] = 6\n",
    "df.test7[\"Number_of_Clusters\"] = 7\n",
    "df.test8[\"Number_of_Clusters\"] = 8\n",
    "df.test.total <- rbind(df.test5,df.test6,df.test7,df.test8)\n",
    "df.test.total$Var2 <- factor(df.test.total$Var2)"
   ]
  },
  {
   "cell_type": "code",
   "execution_count": 17,
   "metadata": {},
   "outputs": [
    {
     "data": {},
     "metadata": {},
     "output_type": "display_data"
    },
    {
     "data": {
      "image/png": "[encoded data removed]",
      "text/plain": [
       "plot without title"
      ]
     },
     "metadata": {},
     "output_type": "display_data",
     "source": "R display func"
    }
   ],
   "source": [
    "####Box Plot to get idea of differences in families\n",
    "options(repr.plot.width=12, repr.plot.height=8)\n",
    "\n",
    "ggplot(df.test.total, aes(df.test.total$Var1, df.test.total$Var2)) +\n",
    "    geom_tile(aes(fill = df.test.total$Freq)) + \n",
    "    geom_text(aes(label = round(df.test.total$Freq, 1))) +\n",
    "    scale_fill_gradient(low = \"white\", high = \"green\") +\n",
    "    #facet_grid(rows = df.test.total$Number_of_Clusters) +\n",
    "    facet_wrap(df.test.total$Number_of_Clusters, ncol = 2)+\n",
    "     labs(x = \"Asteroid Family Name\" , y = \"Cluster Number\" , fill = \"Frequency\")"
   ]
  },
  {
   "cell_type": "markdown",
   "metadata": {},
   "source": [
    "As shown in the above matrix Vesta finally gets its own cluster when the number of clusters used is 8.<br>\n",
    "This could be the reason why the Elbow graph again drops of when the number of clusters is 8.<br>\n",
    "The flip side is Eunomia is now split across 3 different clusters"
   ]
  }
 ],
 "metadata": {
  "kernelspec": {
   "display_name": "R",
   "language": "R",
   "name": "ir"
  },
  "language_info": {
   "codemirror_mode": "r",
   "file_extension": ".r",
   "mimetype": "text/x-r-source",
   "name": "R",
   "pygments_lexer": "r",
   "version": "3.5.1"
  }
 },
 "nbformat": 4,
 "nbformat_minor": 2
}
