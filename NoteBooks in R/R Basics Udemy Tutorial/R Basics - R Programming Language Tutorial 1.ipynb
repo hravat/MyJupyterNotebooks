{
 "cells": [
  {
   "cell_type": "code",
   "execution_count": 1,
   "metadata": {},
   "outputs": [
    {
     "name": "stdout",
     "output_type": "stream",
     "text": [
      " [1]  1  2  3  4  5  6  7  8  9 10\n"
     ]
    }
   ],
   "source": [
    "myobject <- seq(1:10)\n",
    "print(myobject)"
   ]
  },
  {
   "cell_type": "code",
   "execution_count": 2,
   "metadata": {},
   "outputs": [
    {
     "name": "stdout",
     "output_type": "stream",
     "text": [
      " [1]  1  2  3  4  5  6  7  8  9 10\n"
     ]
    }
   ],
   "source": [
    "seq(1:10)  -> myobject\n",
    "print(myobject)"
   ]
  },
  {
   "cell_type": "code",
   "execution_count": 3,
   "metadata": {},
   "outputs": [
    {
     "name": "stdout",
     "output_type": "stream",
     "text": [
      " [1]  1  2  3  4  5  6  7  8  9 10\n"
     ]
    }
   ],
   "source": [
    "s = myobject = seq(1:10) \n",
    "print(myobject)"
   ]
  },
  {
   "cell_type": "code",
   "execution_count": 4,
   "metadata": {},
   "outputs": [
    {
     "data": {
      "text/html": [
       "'Sum of my object is 55'"
      ],
      "text/latex": [
       "'Sum of my object is 55'"
      ],
      "text/markdown": [
       "'Sum of my object is 55'"
      ],
      "text/plain": [
       "[1] \"Sum of my object is 55\""
      ]
     },
     "metadata": {},
     "output_type": "display_data"
    }
   ],
   "source": [
    "str='Sum of my object is'\n",
    "paste(str,sum(myobject))"
   ]
  },
  {
   "cell_type": "code",
   "execution_count": 5,
   "metadata": {},
   "outputs": [
    {
     "data": {
      "text/html": [
       "<ol class=list-inline>\n",
       "\t<li><span style=white-space:pre-wrap>'R is great  4  i will love it'</span></li>\n",
       "\t<li><span style=white-space:pre-wrap>'R is great  7  i will love it'</span></li>\n",
       "\t<li><span style=white-space:pre-wrap>'R is great  45  i will love it'</span></li>\n",
       "</ol>\n"
      ],
      "text/latex": [
       "\\begin{enumerate*}\n",
       "\\item 'R is great  4  i will love it'\n",
       "\\item 'R is great  7  i will love it'\n",
       "\\item 'R is great  45  i will love it'\n",
       "\\end{enumerate*}\n"
      ],
      "text/markdown": [
       "1. <span style=white-space:pre-wrap>'R is great  4  i will love it'</span>\n",
       "2. <span style=white-space:pre-wrap>'R is great  7  i will love it'</span>\n",
       "3. <span style=white-space:pre-wrap>'R is great  45  i will love it'</span>\n",
       "\n",
       "\n"
      ],
      "text/plain": [
       "[1] \"R is great  4  i will love it\"  \"R is great  7  i will love it\" \n",
       "[3] \"R is great  45  i will love it\""
      ]
     },
     "metadata": {},
     "output_type": "display_data"
    }
   ],
   "source": [
    "paste('R is great ',c(4,7,45),' i will love it')"
   ]
  },
  {
   "cell_type": "code",
   "execution_count": 6,
   "metadata": {},
   "outputs": [
    {
     "name": "stdout",
     "output_type": "stream",
     "text": [
      " [1] 1 2 3 1 2 3 1 2 3 1 2 3 1 2 3 1 2 3 1 2 3 1 2 3 1 2 3 1 2 3 1\n"
     ]
    }
   ],
   "source": [
    "x=rep(1:3,length=31)\n",
    "print(x)"
   ]
  },
  {
   "cell_type": "code",
   "execution_count": 7,
   "metadata": {},
   "outputs": [
    {
     "name": "stdout",
     "output_type": "stream",
     "text": [
      "[1] 1\n"
     ]
    }
   ],
   "source": [
    "print(x[7])"
   ]
  }
 ],
 "metadata": {
  "kernelspec": {
   "display_name": "R",
   "language": "R",
   "name": "ir"
  },
  "language_info": {
   "codemirror_mode": "r",
   "file_extension": ".r",
   "mimetype": "text/x-r-source",
   "name": "R",
   "pygments_lexer": "r",
   "version": "3.4.3"
  }
 },
 "nbformat": 4,
 "nbformat_minor": 2
}
