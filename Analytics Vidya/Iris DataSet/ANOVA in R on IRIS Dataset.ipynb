{
 "cells": [
  {
   "cell_type": "markdown",
   "metadata": {},
   "source": [
    "# Anova on the Iris Dataset"
   ]
  },
  {
   "cell_type": "markdown",
   "metadata": {},
   "source": [
    "Today we will have a look at Anova on the Iris Dataset in R.<br>\n",
    "R is a wonderful language for statistics and I will show how we can perform ANOVA in R by just a single line of code.<br>\n",
    "This will perhaps give you an idea of how powerfulr R really is.<br>"
   ]
  },
  {
   "cell_type": "markdown",
   "metadata": {},
   "source": [
    "## The Theory for ANOVA\n",
    "\n",
    "Before we start ANOVA lets us see what its used for as well as a small working example.<br>\n",
    "ANOVA or Analysis of Variance is used to compare the means of groups across a common varable.<br>\n",
    "It tells us if the means of two or more groups are significantl different from one another.<br>\n",
    "It is done so by analyzing the variances hence the name ANOVA or analysis of variance.<br>\n",
    "This method was developed by Ronald Fisher"
   ]
  },
  {
   "cell_type": "markdown",
   "metadata": {},
   "source": [
    "### Calculations involved in ANOVA\n",
    "\n",
    "The steps invovled in ANOVA are as given below:-\n",
    "\n",
    "    1) First we define the null an alternate hypothesis.\n",
    "  \n",
    "       The null hypothesis is that the means are equal between the groups:-\n",
    "\n",
    "\n",
    "\n",
    "$$H_o : \\mu_1 = \\mu_2 = \\mu_3 = \\mu_4 = ..... \\mu_L$$\n",
    "\n",
    "\n",
    "       The alternate Hypothesis is given as the means are not equal:-\n",
    "         \n",
    "$$H_a : \\mu_1 \\neq \\mu_m$$\n",
    "\n",
    "     2) Once this is done we calculate the Sum of Squares.\n",
    "     \n",
    "        This particualar calculation is done for values between the groups as well as for values within the groups.\n",
    "        \n",
    "        The calculation for within the groups is as follows if there are \n",
    "        \n",
    "$$SS_{within} = \\sum_{i=0}^n ( x_{i,1} - \\overline x_{1})^2 + \\sum_{i=0}^n ( x_{i,2} - \\overline x_{2})^2 + .....                  \\sum_{i=0}^n ( x_{i,k} - \\overline x_{k})^2\n",
    "$$ \n",
    "       \n",
    "        This assumes that there are k different groups and n examples per group.\n",
    "        \n",
    "            \n",
    "        This can be written in a more compact way as:-\n",
    "   \n",
    "   $$SS_{within} = \\sum_{j=0}^k \\sum_{i=0}^n ( x_{i,j} - \\overline x_{j})^2$$ \n",
    "   \n",
    "   \n",
    "      3) Lets have a look Sum of Squares between the groups.\n",
    "       \n",
    "       For this we need to compute a quantitiy called total mean.\n",
    "       Its calculation is done as below\n",
    "        \n",
    "        The mean of group 1 is \n",
    "$$ \n",
    "     \\overline x_{1} \n",
    "$$ \n",
    "\n",
    "        The mean of group 2 is\n",
    "$$ \n",
    "     \\overline x_{2} \n",
    "$$  \n",
    "\n",
    "       and so on.\n",
    "       \n",
    "       The total mean is then computed as \n",
    "       \n",
    "$$ \\overline x_T =  \\sum_{j=0}^k  \\frac{\\overline x_{j}}{k} $$\n",
    "\n",
    "      \n",
    "       The sum of squares between the groups is then calculated as:-\n",
    "       \n",
    "$$ SS_{between} = n_1(\\overline x_{1} - \\overline x_T )^2 + n_2(\\overline x_{2} - \\overline x_T )^2 + ...... n_k(\\overline x_{k} - \\overline x_T )^2 $$       \n",
    "       \n",
    "       \n",
    "$$ SS_{between} =  \\sum_{j=0}^k n_j(\\overline x_{j} - \\overline x_T )^2  $$      \n",
    "\n",
    "       Here n is the number of samples in the group.\n",
    "\n",
    "\n",
    "    4) Degrees of Freedom:-\n",
    "    \n",
    "          The degrees of freedom between groups is calclated as below:-\n",
    "          \n",
    "$$  dof_{ between} = k-1 $$\n",
    "     \n",
    "          The degrees of freedom within groups is calclated as below:-\n",
    "\n",
    "$$  dof_{ within} = n-k $$\n",
    "          \n",
    "          n is the total number of samples.\n",
    "          \n",
    "          \n",
    "      5) F value\n",
    "      \n",
    "           The final step is to calculate the F value if it is more than the critical value null hypothesis is rejected\n",
    "           \n",
    "           First we calculate mean squares within and between as below:-\n",
    "           \n",
    "$$  MS_{ between} = \\frac{SS_{ between}}{dof_{ between}}      $$           \n",
    "           \n",
    "$$  MS_{ within} = \\frac{SS_{ within}}{dof_{ within}}      $$               \n",
    "           \n",
    "           The F value is then calculated as :- \n",
    "           \n",
    "$$  F_{ value} = \\frac{MS_{ between}}{MS_{ within}}      $$           \n",
    "\n",
    "          \n",
    "We will now look at an exapmle before moving on to the Iris DataSet          \n"
   ]
  },
  {
   "cell_type": "markdown",
   "metadata": {},
   "source": [
    " \n",
    " Lets tak a fictous data set with marks of 5 students in English , Maths and History.\n",
    "<table style=\"width:50%\">\n",
    "  <tr>\n",
    "    <th>Student No</th>\n",
    "    <th>English</th>\n",
    "    <th>Maths</th> \n",
    "    <th>History</th>\n",
    "  </tr>\n",
    "  <tr>\n",
    "    <td>1</td>  \n",
    "    <td>56</td>\n",
    "    <td>78</td> \n",
    "    <td>87</td>\n",
    "  </tr>\n",
    "  <tr>\n",
    "    <td>2</td>  \n",
    "    <td>65</td>\n",
    "    <td>85</td> \n",
    "    <td>73</td>\n",
    "  </tr>  \n",
    "  <tr>\n",
    "    <td>3</td>  \n",
    "    <td>53</td>\n",
    "    <td>91</td> \n",
    "    <td>31</td>\n",
    "  </tr>\n",
    "  <tr>\n",
    "    <td>4</td>  \n",
    "    <td>67</td>\n",
    "    <td>94</td> \n",
    "    <td>88</td>\n",
    "  </tr>  \n",
    "  <tr>\n",
    "    <td>5</td>  \n",
    "    <td>39</td>\n",
    "    <td>57</td> \n",
    "    <td>72</td>\n",
    "  </tr>    \n",
    "    \n",
    "</table>"
   ]
  },
  {
   "cell_type": "markdown",
   "metadata": {},
   "source": [
    "Here we have 3 groups and a total of 15 samples\n",
    "\n",
    "$$ k = 3 $$\n",
    "$$ n = 15 $$\n",
    "\n",
    "The degrees of freedom are \n",
    "\n",
    "$$  dof_{ between} = 2 $$\n",
    "$$  dof_{ within} = 12 $$\n",
    "\n",
    "The means are computed as:-\n",
    "\n",
    "$$  \\overline x_{ English} = 56 $$\n",
    "$$  \\overline x_{ Maths} = 81 $$\n",
    "$$  \\overline x_{ History} = 70.2 $$\n",
    "\n",
    "The total mean is:- \n",
    "\n",
    "$$  \\overline x_{ T} = 69 $$\n",
    "\n",
    "The sum of squares is:- \n",
    "\n",
    "$$  SS_{ between} = 5(69-56)^2+5(69-81)^2+5(69-70.2)^2 = 1572.2 $$\n",
    "$$  SS_{ within} = (56-56)^2+(65-56)^2+(69-70.2)^2 + .. (72-70.2)^2  = 3516.8 $$\n",
    "\n",
    "The mean sum of squares is:-\n",
    "\n",
    "$$  MS_{ between} = 5(69-56)^2+5(69-81)^2+5(69-70.2)^2 = 786 $$\n",
    "$$  MS_{ within} = (56-56)^2+(65-56)^2+(69-70.2)^2 + .. (72-70.2)^2  = 293 $$\n",
    "\n",
    "The F value is :- \n",
    "$$  F_{ value} = 2.68  $$\n",
    "\n",
    "The F critical is :- \n",
    "$$  F_{ critical} = 3.89  $$\n",
    "\n",
    "     Here F critical is higher and so we do not reject the null hypothesis "
   ]
  },
  {
   "cell_type": "markdown",
   "metadata": {},
   "source": [
    "Lets visualize this in R"
   ]
  },
  {
   "cell_type": "code",
   "execution_count": 9,
   "metadata": {},
   "outputs": [
    {
     "name": "stdout",
     "output_type": "stream",
     "text": [
      "Warning: df2 < 2, mean is not able to be generated.\n",
      "Warning: df2 < 4, variance is not able to be generated.\n"
     ]
    },
    {
     "data": {
      "image/png": "[encoded data removed]",
      "text/plain": [
       "Plot with title \"F Distribution  \n",
       " df1  =  12   df2  =  2  \""
      ]
     },
     "metadata": {},
     "output_type": "display_data"
    }
   ],
   "source": [
    "library('visualize')\n",
    "visualize.f(stat = 2.68 , df1 = 12 , df2 = 2 ,section = 'upper')"
   ]
  },
  {
   "cell_type": "markdown",
   "metadata": {},
   "source": [
    "Lets start with ANOVA on the iris dataset by loading the necessary libraries.\n",
    "We will first write the code from scratch and the check out R's inbuilt implementation of ANOVA\n",
    "\n"
   ]
  },
  {
   "cell_type": "code",
   "execution_count": 10,
   "metadata": {},
   "outputs": [],
   "source": [
    "library('datasets')\n",
    "library('dplyr')"
   ]
  },
  {
   "cell_type": "markdown",
   "metadata": {},
   "source": [
    "As we see below the IRIS data set consists of a total of 4 attributes"
   ]
  },
  {
   "cell_type": "code",
   "execution_count": 11,
   "metadata": {},
   "outputs": [
    {
     "data": {
      "text/html": [
       "<table>\n",
       "<thead><tr><th scope=col>Sepal.Length</th><th scope=col>Sepal.Width</th><th scope=col>Petal.Length</th><th scope=col>Petal.Width</th><th scope=col>Species</th></tr></thead>\n",
       "<tbody>\n",
       "\t<tr><td>5.1   </td><td>3.5   </td><td>1.4   </td><td>0.2   </td><td>setosa</td></tr>\n",
       "\t<tr><td>4.9   </td><td>3.0   </td><td>1.4   </td><td>0.2   </td><td>setosa</td></tr>\n",
       "\t<tr><td>4.7   </td><td>3.2   </td><td>1.3   </td><td>0.2   </td><td>setosa</td></tr>\n",
       "\t<tr><td>4.6   </td><td>3.1   </td><td>1.5   </td><td>0.2   </td><td>setosa</td></tr>\n",
       "\t<tr><td>5.0   </td><td>3.6   </td><td>1.4   </td><td>0.2   </td><td>setosa</td></tr>\n",
       "\t<tr><td>5.4   </td><td>3.9   </td><td>1.7   </td><td>0.4   </td><td>setosa</td></tr>\n",
       "</tbody>\n",
       "</table>\n"
      ],
      "text/latex": [
       "\\begin{tabular}{r|lllll}\n",
       " Sepal.Length & Sepal.Width & Petal.Length & Petal.Width & Species\\\\\n",
       "\\hline\n",
       "\t 5.1    & 3.5    & 1.4    & 0.2    & setosa\\\\\n",
       "\t 4.9    & 3.0    & 1.4    & 0.2    & setosa\\\\\n",
       "\t 4.7    & 3.2    & 1.3    & 0.2    & setosa\\\\\n",
       "\t 4.6    & 3.1    & 1.5    & 0.2    & setosa\\\\\n",
       "\t 5.0    & 3.6    & 1.4    & 0.2    & setosa\\\\\n",
       "\t 5.4    & 3.9    & 1.7    & 0.4    & setosa\\\\\n",
       "\\end{tabular}\n"
      ],
      "text/markdown": [
       "\n",
       "Sepal.Length | Sepal.Width | Petal.Length | Petal.Width | Species | \n",
       "|---|---|---|---|---|---|\n",
       "| 5.1    | 3.5    | 1.4    | 0.2    | setosa | \n",
       "| 4.9    | 3.0    | 1.4    | 0.2    | setosa | \n",
       "| 4.7    | 3.2    | 1.3    | 0.2    | setosa | \n",
       "| 4.6    | 3.1    | 1.5    | 0.2    | setosa | \n",
       "| 5.0    | 3.6    | 1.4    | 0.2    | setosa | \n",
       "| 5.4    | 3.9    | 1.7    | 0.4    | setosa | \n",
       "\n",
       "\n"
      ],
      "text/plain": [
       "  Sepal.Length Sepal.Width Petal.Length Petal.Width Species\n",
       "1 5.1          3.5         1.4          0.2         setosa \n",
       "2 4.9          3.0         1.4          0.2         setosa \n",
       "3 4.7          3.2         1.3          0.2         setosa \n",
       "4 4.6          3.1         1.5          0.2         setosa \n",
       "5 5.0          3.6         1.4          0.2         setosa \n",
       "6 5.4          3.9         1.7          0.4         setosa "
      ]
     },
     "metadata": {},
     "output_type": "display_data"
    }
   ],
   "source": [
    "head(iris)"
   ]
  },
  {
   "cell_type": "markdown",
   "metadata": {},
   "source": [
    "The averages are displayed below calculated for every attribute and species"
   ]
  },
  {
   "cell_type": "code",
   "execution_count": 12,
   "metadata": {},
   "outputs": [
    {
     "data": {
      "text/html": [
       "<table>\n",
       "<thead><tr><th scope=col>Species</th><th scope=col>Sepal.Length.Agg</th><th scope=col>Sepal.Width.Agg</th><th scope=col>Petal.Length.Agg</th><th scope=col>Petal.Width.Agg</th></tr></thead>\n",
       "<tbody>\n",
       "\t<tr><td>setosa    </td><td>5.006     </td><td>3.428     </td><td>1.462     </td><td>0.246     </td></tr>\n",
       "\t<tr><td>versicolor</td><td>5.936     </td><td>2.770     </td><td>4.260     </td><td>1.326     </td></tr>\n",
       "\t<tr><td>virginica </td><td>6.588     </td><td>2.974     </td><td>5.552     </td><td>2.026     </td></tr>\n",
       "</tbody>\n",
       "</table>\n"
      ],
      "text/latex": [
       "\\begin{tabular}{r|lllll}\n",
       " Species & Sepal.Length.Agg & Sepal.Width.Agg & Petal.Length.Agg & Petal.Width.Agg\\\\\n",
       "\\hline\n",
       "\t setosa     & 5.006      & 3.428      & 1.462      & 0.246     \\\\\n",
       "\t versicolor & 5.936      & 2.770      & 4.260      & 1.326     \\\\\n",
       "\t virginica  & 6.588      & 2.974      & 5.552      & 2.026     \\\\\n",
       "\\end{tabular}\n"
      ],
      "text/markdown": [
       "\n",
       "Species | Sepal.Length.Agg | Sepal.Width.Agg | Petal.Length.Agg | Petal.Width.Agg | \n",
       "|---|---|---|\n",
       "| setosa     | 5.006      | 3.428      | 1.462      | 0.246      | \n",
       "| versicolor | 5.936      | 2.770      | 4.260      | 1.326      | \n",
       "| virginica  | 6.588      | 2.974      | 5.552      | 2.026      | \n",
       "\n",
       "\n"
      ],
      "text/plain": [
       "  Species    Sepal.Length.Agg Sepal.Width.Agg Petal.Length.Agg Petal.Width.Agg\n",
       "1 setosa     5.006            3.428           1.462            0.246          \n",
       "2 versicolor 5.936            2.770           4.260            1.326          \n",
       "3 virginica  6.588            2.974           5.552            2.026          "
      ]
     },
     "metadata": {},
     "output_type": "display_data"
    }
   ],
   "source": [
    "iris_agg <- aggregate(iris[,1:4],by=list(iris$Species),mean)\n",
    "df_iris_agg <- data.frame(iris_agg)\n",
    "colnames(df_iris_agg)[1] <- \"Species\"\n",
    "colnames(df_iris_agg)[2] <- \"Sepal.Length.Agg\"\n",
    "colnames(df_iris_agg)[3] <- \"Sepal.Width.Agg\"\n",
    "colnames(df_iris_agg)[4] <- \"Petal.Length.Agg\"\n",
    "colnames(df_iris_agg)[5] <- \"Petal.Width.Agg\"\n",
    "\n",
    "df_iris_agg"
   ]
  },
  {
   "cell_type": "code",
   "execution_count": 13,
   "metadata": {},
   "outputs": [
    {
     "data": {
      "text/html": [
       "<table>\n",
       "<thead><tr><th scope=col>Species</th><th scope=col>Sepal.Length</th><th scope=col>Sepal.Width</th><th scope=col>Petal.Length</th><th scope=col>Petal.Width</th><th scope=col>Sepal.Length.Agg</th><th scope=col>Sepal.Width.Agg</th><th scope=col>Petal.Length.Agg</th><th scope=col>Petal.Width.Agg</th></tr></thead>\n",
       "<tbody>\n",
       "\t<tr><td>setosa</td><td>5.1   </td><td>3.5   </td><td>1.4   </td><td>0.2   </td><td>5.006 </td><td>3.428 </td><td>1.462 </td><td>0.246 </td></tr>\n",
       "\t<tr><td>setosa</td><td>4.9   </td><td>3.0   </td><td>1.4   </td><td>0.2   </td><td>5.006 </td><td>3.428 </td><td>1.462 </td><td>0.246 </td></tr>\n",
       "\t<tr><td>setosa</td><td>4.7   </td><td>3.2   </td><td>1.3   </td><td>0.2   </td><td>5.006 </td><td>3.428 </td><td>1.462 </td><td>0.246 </td></tr>\n",
       "\t<tr><td>setosa</td><td>4.6   </td><td>3.1   </td><td>1.5   </td><td>0.2   </td><td>5.006 </td><td>3.428 </td><td>1.462 </td><td>0.246 </td></tr>\n",
       "\t<tr><td>setosa</td><td>5.0   </td><td>3.6   </td><td>1.4   </td><td>0.2   </td><td>5.006 </td><td>3.428 </td><td>1.462 </td><td>0.246 </td></tr>\n",
       "\t<tr><td>setosa</td><td>5.4   </td><td>3.9   </td><td>1.7   </td><td>0.4   </td><td>5.006 </td><td>3.428 </td><td>1.462 </td><td>0.246 </td></tr>\n",
       "</tbody>\n",
       "</table>\n"
      ],
      "text/latex": [
       "\\begin{tabular}{r|lllllllll}\n",
       " Species & Sepal.Length & Sepal.Width & Petal.Length & Petal.Width & Sepal.Length.Agg & Sepal.Width.Agg & Petal.Length.Agg & Petal.Width.Agg\\\\\n",
       "\\hline\n",
       "\t setosa & 5.1    & 3.5    & 1.4    & 0.2    & 5.006  & 3.428  & 1.462  & 0.246 \\\\\n",
       "\t setosa & 4.9    & 3.0    & 1.4    & 0.2    & 5.006  & 3.428  & 1.462  & 0.246 \\\\\n",
       "\t setosa & 4.7    & 3.2    & 1.3    & 0.2    & 5.006  & 3.428  & 1.462  & 0.246 \\\\\n",
       "\t setosa & 4.6    & 3.1    & 1.5    & 0.2    & 5.006  & 3.428  & 1.462  & 0.246 \\\\\n",
       "\t setosa & 5.0    & 3.6    & 1.4    & 0.2    & 5.006  & 3.428  & 1.462  & 0.246 \\\\\n",
       "\t setosa & 5.4    & 3.9    & 1.7    & 0.4    & 5.006  & 3.428  & 1.462  & 0.246 \\\\\n",
       "\\end{tabular}\n"
      ],
      "text/markdown": [
       "\n",
       "Species | Sepal.Length | Sepal.Width | Petal.Length | Petal.Width | Sepal.Length.Agg | Sepal.Width.Agg | Petal.Length.Agg | Petal.Width.Agg | \n",
       "|---|---|---|---|---|---|\n",
       "| setosa | 5.1    | 3.5    | 1.4    | 0.2    | 5.006  | 3.428  | 1.462  | 0.246  | \n",
       "| setosa | 4.9    | 3.0    | 1.4    | 0.2    | 5.006  | 3.428  | 1.462  | 0.246  | \n",
       "| setosa | 4.7    | 3.2    | 1.3    | 0.2    | 5.006  | 3.428  | 1.462  | 0.246  | \n",
       "| setosa | 4.6    | 3.1    | 1.5    | 0.2    | 5.006  | 3.428  | 1.462  | 0.246  | \n",
       "| setosa | 5.0    | 3.6    | 1.4    | 0.2    | 5.006  | 3.428  | 1.462  | 0.246  | \n",
       "| setosa | 5.4    | 3.9    | 1.7    | 0.4    | 5.006  | 3.428  | 1.462  | 0.246  | \n",
       "\n",
       "\n"
      ],
      "text/plain": [
       "  Species Sepal.Length Sepal.Width Petal.Length Petal.Width Sepal.Length.Agg\n",
       "1 setosa  5.1          3.5         1.4          0.2         5.006           \n",
       "2 setosa  4.9          3.0         1.4          0.2         5.006           \n",
       "3 setosa  4.7          3.2         1.3          0.2         5.006           \n",
       "4 setosa  4.6          3.1         1.5          0.2         5.006           \n",
       "5 setosa  5.0          3.6         1.4          0.2         5.006           \n",
       "6 setosa  5.4          3.9         1.7          0.4         5.006           \n",
       "  Sepal.Width.Agg Petal.Length.Agg Petal.Width.Agg\n",
       "1 3.428           1.462            0.246          \n",
       "2 3.428           1.462            0.246          \n",
       "3 3.428           1.462            0.246          \n",
       "4 3.428           1.462            0.246          \n",
       "5 3.428           1.462            0.246          \n",
       "6 3.428           1.462            0.246          "
      ]
     },
     "metadata": {},
     "output_type": "display_data"
    }
   ],
   "source": [
    "df_iris_merge <- merge(iris, df_iris_agg , by = \"Species\")\n",
    "head(df_iris_merge)"
   ]
  },
  {
   "cell_type": "code",
   "execution_count": 14,
   "metadata": {},
   "outputs": [],
   "source": [
    "df_ss_within <-  data.frame(cbind(df_iris_merge[1],(df_iris_merge[2]-df_iris_merge[6])^2\n",
    "                                                  ,(df_iris_merge[3]-df_iris_merge[7])^2\n",
    "                                                  ,(df_iris_merge[4]-df_iris_merge[8])^2\n",
    "                                                  ,(df_iris_merge[5]-df_iris_merge[9])^2\n",
    "                                  ))\n",
    "                            "
   ]
  },
  {
   "cell_type": "code",
   "execution_count": 15,
   "metadata": {},
   "outputs": [
    {
     "data": {
      "text/html": [
       "<table>\n",
       "<thead><tr><th scope=col>Species</th><th scope=col>Sepal.Length</th><th scope=col>Sepal.Width</th><th scope=col>Petal.Length</th><th scope=col>Petal.Width</th></tr></thead>\n",
       "<tbody>\n",
       "\t<tr><td>setosa  </td><td>0.008836</td><td>0.005184</td><td>0.003844</td><td>0.002116</td></tr>\n",
       "\t<tr><td>setosa  </td><td>0.011236</td><td>0.183184</td><td>0.003844</td><td>0.002116</td></tr>\n",
       "\t<tr><td>setosa  </td><td>0.093636</td><td>0.051984</td><td>0.026244</td><td>0.002116</td></tr>\n",
       "\t<tr><td>setosa  </td><td>0.164836</td><td>0.107584</td><td>0.001444</td><td>0.002116</td></tr>\n",
       "\t<tr><td>setosa  </td><td>0.000036</td><td>0.029584</td><td>0.003844</td><td>0.002116</td></tr>\n",
       "\t<tr><td>setosa  </td><td>0.155236</td><td>0.222784</td><td>0.056644</td><td>0.023716</td></tr>\n",
       "</tbody>\n",
       "</table>\n"
      ],
      "text/latex": [
       "\\begin{tabular}{r|lllll}\n",
       " Species & Sepal.Length & Sepal.Width & Petal.Length & Petal.Width\\\\\n",
       "\\hline\n",
       "\t setosa   & 0.008836 & 0.005184 & 0.003844 & 0.002116\\\\\n",
       "\t setosa   & 0.011236 & 0.183184 & 0.003844 & 0.002116\\\\\n",
       "\t setosa   & 0.093636 & 0.051984 & 0.026244 & 0.002116\\\\\n",
       "\t setosa   & 0.164836 & 0.107584 & 0.001444 & 0.002116\\\\\n",
       "\t setosa   & 0.000036 & 0.029584 & 0.003844 & 0.002116\\\\\n",
       "\t setosa   & 0.155236 & 0.222784 & 0.056644 & 0.023716\\\\\n",
       "\\end{tabular}\n"
      ],
      "text/markdown": [
       "\n",
       "Species | Sepal.Length | Sepal.Width | Petal.Length | Petal.Width | \n",
       "|---|---|---|---|---|---|\n",
       "| setosa   | 0.008836 | 0.005184 | 0.003844 | 0.002116 | \n",
       "| setosa   | 0.011236 | 0.183184 | 0.003844 | 0.002116 | \n",
       "| setosa   | 0.093636 | 0.051984 | 0.026244 | 0.002116 | \n",
       "| setosa   | 0.164836 | 0.107584 | 0.001444 | 0.002116 | \n",
       "| setosa   | 0.000036 | 0.029584 | 0.003844 | 0.002116 | \n",
       "| setosa   | 0.155236 | 0.222784 | 0.056644 | 0.023716 | \n",
       "\n",
       "\n"
      ],
      "text/plain": [
       "  Species Sepal.Length Sepal.Width Petal.Length Petal.Width\n",
       "1 setosa  0.008836     0.005184    0.003844     0.002116   \n",
       "2 setosa  0.011236     0.183184    0.003844     0.002116   \n",
       "3 setosa  0.093636     0.051984    0.026244     0.002116   \n",
       "4 setosa  0.164836     0.107584    0.001444     0.002116   \n",
       "5 setosa  0.000036     0.029584    0.003844     0.002116   \n",
       "6 setosa  0.155236     0.222784    0.056644     0.023716   "
      ]
     },
     "metadata": {},
     "output_type": "display_data"
    }
   ],
   "source": [
    "head(df_ss_within)"
   ]
  },
  {
   "cell_type": "markdown",
   "metadata": {},
   "source": [
    "In the dataFrame $SS_{within}$ we have the sum of squares within the groups."
   ]
  },
  {
   "cell_type": "code",
   "execution_count": 16,
   "metadata": {},
   "outputs": [
    {
     "data": {
      "text/html": [
       "<table>\n",
       "<thead><tr><th scope=col>Sepal.Length</th><th scope=col>Sepal.Width</th><th scope=col>Petal.Length</th><th scope=col>Petal.Width</th></tr></thead>\n",
       "<tbody>\n",
       "\t<tr><td>38.9562</td><td>16.962 </td><td>27.2226</td><td>6.1566 </td></tr>\n",
       "</tbody>\n",
       "</table>\n"
      ],
      "text/latex": [
       "\\begin{tabular}{llll}\n",
       " Sepal.Length & Sepal.Width & Petal.Length & Petal.Width\\\\\n",
       "\\hline\n",
       "\t 38.9562 & 16.962  & 27.2226 & 6.1566 \\\\\n",
       "\\end{tabular}\n"
      ],
      "text/markdown": [
       "\n",
       "Sepal.Length | Sepal.Width | Petal.Length | Petal.Width | \n",
       "|---|\n",
       "| 38.9562 | 16.962  | 27.2226 | 6.1566  | \n",
       "\n",
       "\n"
      ],
      "text/plain": [
       "     Sepal.Length Sepal.Width Petal.Length Petal.Width\n",
       "[1,] 38.9562      16.962      27.2226      6.1566     "
      ]
     },
     "metadata": {},
     "output_type": "display_data"
    }
   ],
   "source": [
    "ss_within <- cbind(sum(df_ss_within[2]),sum(df_ss_within[3]),sum(df_ss_within[4]),sum(df_ss_within[5]))\n",
    "colnames(ss_within) <- colnames(df_ss_within[2:ncol(df_ss_within)])\n",
    "ss_within"
   ]
  },
  {
   "cell_type": "code",
   "execution_count": 17,
   "metadata": {},
   "outputs": [
    {
     "data": {
      "text/html": [
       "<table>\n",
       "<thead><tr><th scope=col>Sepal.Length.Agg</th><th scope=col>Sepal.Width.Agg</th><th scope=col>Petal.Length.Agg</th><th scope=col>Petal.Width.Agg</th></tr></thead>\n",
       "<tbody>\n",
       "\t<tr><td>5.843333</td><td>3.057333</td><td>3.758   </td><td>1.199333</td></tr>\n",
       "</tbody>\n",
       "</table>\n"
      ],
      "text/latex": [
       "\\begin{tabular}{llll}\n",
       " Sepal.Length.Agg & Sepal.Width.Agg & Petal.Length.Agg & Petal.Width.Agg\\\\\n",
       "\\hline\n",
       "\t 5.843333 & 3.057333 & 3.758    & 1.199333\\\\\n",
       "\\end{tabular}\n"
      ],
      "text/markdown": [
       "\n",
       "Sepal.Length.Agg | Sepal.Width.Agg | Petal.Length.Agg | Petal.Width.Agg | \n",
       "|---|\n",
       "| 5.843333 | 3.057333 | 3.758    | 1.199333 | \n",
       "\n",
       "\n"
      ],
      "text/plain": [
       "     Sepal.Length.Agg Sepal.Width.Agg Petal.Length.Agg Petal.Width.Agg\n",
       "[1,] 5.843333         3.057333        3.758            1.199333       "
      ]
     },
     "metadata": {},
     "output_type": "display_data"
    }
   ],
   "source": [
    "total_iris_agg <- colMeans(x=df_iris_agg[,2:5], na.rm = TRUE)\n",
    "total_iris_agg <- t(total_iris_agg)\n",
    "total_iris_agg"
   ]
  },
  {
   "cell_type": "code",
   "execution_count": 18,
   "metadata": {},
   "outputs": [
    {
     "data": {
      "text/html": [
       "<table>\n",
       "<thead><tr><th scope=col>Species</th><th scope=col>Sepal.Length.Agg.x</th><th scope=col>Sepal.Width.Agg.x</th><th scope=col>Petal.Length.Agg.x</th><th scope=col>Petal.Width.Agg.x</th><th scope=col>Sepal.Length.Agg.y</th><th scope=col>Sepal.Width.Agg.y</th><th scope=col>Petal.Length.Agg.y</th><th scope=col>Petal.Width.Agg.y</th></tr></thead>\n",
       "<tbody>\n",
       "\t<tr><td>setosa    </td><td>5.006     </td><td>3.428     </td><td>1.462     </td><td>0.246     </td><td>5.843333  </td><td>3.057333  </td><td>3.758     </td><td>1.199333  </td></tr>\n",
       "\t<tr><td>versicolor</td><td>5.936     </td><td>2.770     </td><td>4.260     </td><td>1.326     </td><td>5.843333  </td><td>3.057333  </td><td>3.758     </td><td>1.199333  </td></tr>\n",
       "\t<tr><td>virginica </td><td>6.588     </td><td>2.974     </td><td>5.552     </td><td>2.026     </td><td>5.843333  </td><td>3.057333  </td><td>3.758     </td><td>1.199333  </td></tr>\n",
       "</tbody>\n",
       "</table>\n"
      ],
      "text/latex": [
       "\\begin{tabular}{r|lllllllll}\n",
       " Species & Sepal.Length.Agg.x & Sepal.Width.Agg.x & Petal.Length.Agg.x & Petal.Width.Agg.x & Sepal.Length.Agg.y & Sepal.Width.Agg.y & Petal.Length.Agg.y & Petal.Width.Agg.y\\\\\n",
       "\\hline\n",
       "\t setosa     & 5.006      & 3.428      & 1.462      & 0.246      & 5.843333   & 3.057333   & 3.758      & 1.199333  \\\\\n",
       "\t versicolor & 5.936      & 2.770      & 4.260      & 1.326      & 5.843333   & 3.057333   & 3.758      & 1.199333  \\\\\n",
       "\t virginica  & 6.588      & 2.974      & 5.552      & 2.026      & 5.843333   & 3.057333   & 3.758      & 1.199333  \\\\\n",
       "\\end{tabular}\n"
      ],
      "text/markdown": [
       "\n",
       "Species | Sepal.Length.Agg.x | Sepal.Width.Agg.x | Petal.Length.Agg.x | Petal.Width.Agg.x | Sepal.Length.Agg.y | Sepal.Width.Agg.y | Petal.Length.Agg.y | Petal.Width.Agg.y | \n",
       "|---|---|---|\n",
       "| setosa     | 5.006      | 3.428      | 1.462      | 0.246      | 5.843333   | 3.057333   | 3.758      | 1.199333   | \n",
       "| versicolor | 5.936      | 2.770      | 4.260      | 1.326      | 5.843333   | 3.057333   | 3.758      | 1.199333   | \n",
       "| virginica  | 6.588      | 2.974      | 5.552      | 2.026      | 5.843333   | 3.057333   | 3.758      | 1.199333   | \n",
       "\n",
       "\n"
      ],
      "text/plain": [
       "  Species    Sepal.Length.Agg.x Sepal.Width.Agg.x Petal.Length.Agg.x\n",
       "1 setosa     5.006              3.428             1.462             \n",
       "2 versicolor 5.936              2.770             4.260             \n",
       "3 virginica  6.588              2.974             5.552             \n",
       "  Petal.Width.Agg.x Sepal.Length.Agg.y Sepal.Width.Agg.y Petal.Length.Agg.y\n",
       "1 0.246             5.843333           3.057333          3.758             \n",
       "2 1.326             5.843333           3.057333          3.758             \n",
       "3 2.026             5.843333           3.057333          3.758             \n",
       "  Petal.Width.Agg.y\n",
       "1 1.199333         \n",
       "2 1.199333         \n",
       "3 1.199333         "
      ]
     },
     "metadata": {},
     "output_type": "display_data"
    }
   ],
   "source": [
    "df_means_between <- merge(df_iris_agg, total_iris_agg , by = NULL)\n",
    "df_means_between"
   ]
  },
  {
   "cell_type": "code",
   "execution_count": 19,
   "metadata": {},
   "outputs": [
    {
     "data": {
      "text/html": [
       "<table>\n",
       "<thead><tr><th scope=col>Species</th><th scope=col>Sepal.Length.Agg.x</th><th scope=col>Sepal.Width.Agg.x</th><th scope=col>Petal.Length.Agg.x</th><th scope=col>Petal.Width.Agg.x</th><th scope=col>Sepal.Length.Agg.y</th><th scope=col>Sepal.Width.Agg.y</th><th scope=col>Petal.Length.Agg.y</th><th scope=col>Petal.Width.Agg.y</th><th scope=col>n</th></tr></thead>\n",
       "<tbody>\n",
       "\t<tr><td>setosa    </td><td>5.006     </td><td>3.428     </td><td>1.462     </td><td>0.246     </td><td>5.843333  </td><td>3.057333  </td><td>3.758     </td><td>1.199333  </td><td>50        </td></tr>\n",
       "\t<tr><td>versicolor</td><td>5.936     </td><td>2.770     </td><td>4.260     </td><td>1.326     </td><td>5.843333  </td><td>3.057333  </td><td>3.758     </td><td>1.199333  </td><td>50        </td></tr>\n",
       "\t<tr><td>virginica </td><td>6.588     </td><td>2.974     </td><td>5.552     </td><td>2.026     </td><td>5.843333  </td><td>3.057333  </td><td>3.758     </td><td>1.199333  </td><td>50        </td></tr>\n",
       "</tbody>\n",
       "</table>\n"
      ],
      "text/latex": [
       "\\begin{tabular}{r|llllllllll}\n",
       " Species & Sepal.Length.Agg.x & Sepal.Width.Agg.x & Petal.Length.Agg.x & Petal.Width.Agg.x & Sepal.Length.Agg.y & Sepal.Width.Agg.y & Petal.Length.Agg.y & Petal.Width.Agg.y & n\\\\\n",
       "\\hline\n",
       "\t setosa     & 5.006      & 3.428      & 1.462      & 0.246      & 5.843333   & 3.057333   & 3.758      & 1.199333   & 50        \\\\\n",
       "\t versicolor & 5.936      & 2.770      & 4.260      & 1.326      & 5.843333   & 3.057333   & 3.758      & 1.199333   & 50        \\\\\n",
       "\t virginica  & 6.588      & 2.974      & 5.552      & 2.026      & 5.843333   & 3.057333   & 3.758      & 1.199333   & 50        \\\\\n",
       "\\end{tabular}\n"
      ],
      "text/markdown": [
       "\n",
       "Species | Sepal.Length.Agg.x | Sepal.Width.Agg.x | Petal.Length.Agg.x | Petal.Width.Agg.x | Sepal.Length.Agg.y | Sepal.Width.Agg.y | Petal.Length.Agg.y | Petal.Width.Agg.y | n | \n",
       "|---|---|---|\n",
       "| setosa     | 5.006      | 3.428      | 1.462      | 0.246      | 5.843333   | 3.057333   | 3.758      | 1.199333   | 50         | \n",
       "| versicolor | 5.936      | 2.770      | 4.260      | 1.326      | 5.843333   | 3.057333   | 3.758      | 1.199333   | 50         | \n",
       "| virginica  | 6.588      | 2.974      | 5.552      | 2.026      | 5.843333   | 3.057333   | 3.758      | 1.199333   | 50         | \n",
       "\n",
       "\n"
      ],
      "text/plain": [
       "  Species    Sepal.Length.Agg.x Sepal.Width.Agg.x Petal.Length.Agg.x\n",
       "1 setosa     5.006              3.428             1.462             \n",
       "2 versicolor 5.936              2.770             4.260             \n",
       "3 virginica  6.588              2.974             5.552             \n",
       "  Petal.Width.Agg.x Sepal.Length.Agg.y Sepal.Width.Agg.y Petal.Length.Agg.y\n",
       "1 0.246             5.843333           3.057333          3.758             \n",
       "2 1.326             5.843333           3.057333          3.758             \n",
       "3 2.026             5.843333           3.057333          3.758             \n",
       "  Petal.Width.Agg.y n \n",
       "1 1.199333          50\n",
       "2 1.199333          50\n",
       "3 1.199333          50"
      ]
     },
     "metadata": {},
     "output_type": "display_data"
    }
   ],
   "source": [
    "df_means_between_comp <- merge(df_means_between, count(iris,Species) , by = 'Species') \n",
    "df_means_between_comp"
   ]
  },
  {
   "cell_type": "code",
   "execution_count": 20,
   "metadata": {},
   "outputs": [
    {
     "data": {
      "text/html": [
       "<table>\n",
       "<thead><tr><th scope=col>Species</th><th scope=col>Sepal.Length.Agg</th><th scope=col>Sepal.Width.Agg</th><th scope=col>Petal.Length.Agg</th><th scope=col>Petal.Width.Agg</th></tr></thead>\n",
       "<tbody>\n",
       "\t<tr><td>setosa    </td><td>35.0563556</td><td>6.8696889 </td><td>263.5808  </td><td>45.4422222</td></tr>\n",
       "\t<tr><td>versicolor</td><td> 0.4293556</td><td>4.1280222 </td><td> 12.6002  </td><td> 0.8022222</td></tr>\n",
       "\t<tr><td>virginica </td><td>27.7264222</td><td>0.3472222 </td><td>160.9218  </td><td>34.1688889</td></tr>\n",
       "</tbody>\n",
       "</table>\n"
      ],
      "text/latex": [
       "\\begin{tabular}{r|lllll}\n",
       " Species & Sepal.Length.Agg & Sepal.Width.Agg & Petal.Length.Agg & Petal.Width.Agg\\\\\n",
       "\\hline\n",
       "\t setosa     & 35.0563556 & 6.8696889  & 263.5808   & 45.4422222\\\\\n",
       "\t versicolor &  0.4293556 & 4.1280222  &  12.6002   &  0.8022222\\\\\n",
       "\t virginica  & 27.7264222 & 0.3472222  & 160.9218   & 34.1688889\\\\\n",
       "\\end{tabular}\n"
      ],
      "text/markdown": [
       "\n",
       "Species | Sepal.Length.Agg | Sepal.Width.Agg | Petal.Length.Agg | Petal.Width.Agg | \n",
       "|---|---|---|\n",
       "| setosa     | 35.0563556 | 6.8696889  | 263.5808   | 45.4422222 | \n",
       "| versicolor |  0.4293556 | 4.1280222  |  12.6002   |  0.8022222 | \n",
       "| virginica  | 27.7264222 | 0.3472222  | 160.9218   | 34.1688889 | \n",
       "\n",
       "\n"
      ],
      "text/plain": [
       "  Species    Sepal.Length.Agg Sepal.Width.Agg Petal.Length.Agg Petal.Width.Agg\n",
       "1 setosa     35.0563556       6.8696889       263.5808         45.4422222     \n",
       "2 versicolor  0.4293556       4.1280222        12.6002          0.8022222     \n",
       "3 virginica  27.7264222       0.3472222       160.9218         34.1688889     "
      ]
     },
     "metadata": {},
     "output_type": "display_data"
    }
   ],
   "source": [
    "df_ss_between <-  data.frame(cbind(df_means_between_comp[1],((df_means_between_comp[2]-df_means_between_comp[6])^2)*df_means_between_comp[10]\n",
    "                                                  ,((df_means_between_comp[3]-df_means_between_comp[7])^2)*df_means_between_comp[10]\n",
    "                                                  ,((df_means_between_comp[4]-df_means_between_comp[8])^2)*df_means_between_comp[10]\n",
    "                                                  ,((df_means_between_comp[5]-df_means_between_comp[9])^2)*df_means_between_comp[10]\n",
    "                                  ))\n",
    "colnames(df_ss_between)[2] <- \"Sepal.Length.Agg\"\n",
    "colnames(df_ss_between)[3] <- \"Sepal.Width.Agg\"\n",
    "colnames(df_ss_between)[4] <- \"Petal.Length.Agg\"\n",
    "colnames(df_ss_between)[5] <- \"Petal.Width.Agg\"\n",
    "df_ss_between"
   ]
  },
  {
   "cell_type": "markdown",
   "metadata": {},
   "source": [
    "In the dataFrame $SS_{between}$ we have the sum of squares between the groups."
   ]
  },
  {
   "cell_type": "code",
   "execution_count": 21,
   "metadata": {},
   "outputs": [
    {
     "data": {
      "text/html": [
       "<table>\n",
       "<thead><tr><th scope=col>Sepal.Length.Agg</th><th scope=col>Sepal.Width.Agg</th><th scope=col>Petal.Length.Agg</th><th scope=col>Petal.Width.Agg</th></tr></thead>\n",
       "<tbody>\n",
       "\t<tr><td>63.21213</td><td>11.34493</td><td>437.1028</td><td>80.41333</td></tr>\n",
       "</tbody>\n",
       "</table>\n"
      ],
      "text/latex": [
       "\\begin{tabular}{llll}\n",
       " Sepal.Length.Agg & Sepal.Width.Agg & Petal.Length.Agg & Petal.Width.Agg\\\\\n",
       "\\hline\n",
       "\t 63.21213 & 11.34493 & 437.1028 & 80.41333\\\\\n",
       "\\end{tabular}\n"
      ],
      "text/markdown": [
       "\n",
       "Sepal.Length.Agg | Sepal.Width.Agg | Petal.Length.Agg | Petal.Width.Agg | \n",
       "|---|\n",
       "| 63.21213 | 11.34493 | 437.1028 | 80.41333 | \n",
       "\n",
       "\n"
      ],
      "text/plain": [
       "     Sepal.Length.Agg Sepal.Width.Agg Petal.Length.Agg Petal.Width.Agg\n",
       "[1,] 63.21213         11.34493        437.1028         80.41333       "
      ]
     },
     "metadata": {},
     "output_type": "display_data"
    }
   ],
   "source": [
    "ss_between <- cbind(sum(df_ss_between[2]),sum(df_ss_between[3]),sum(df_ss_between[4]),sum(df_ss_between[5]))\n",
    "colnames(ss_between) <- colnames(df_ss_between[2:ncol(df_ss_between)])\n",
    "ss_between"
   ]
  },
  {
   "cell_type": "code",
   "execution_count": 22,
   "metadata": {},
   "outputs": [
    {
     "name": "stdout",
     "output_type": "stream",
     "text": [
      "[1] \"Degrees of freedom between the groups  2\"\n",
      "[1] \"Degrees of freedom within the groups  147\"\n"
     ]
    }
   ],
   "source": [
    "dof_between=nrow(unique(iris[5]))-1\n",
    "print(paste('Degrees of freedom between the groups ',dof_between))\n",
    "dof_within=nrow(iris)-nrow(unique(iris[5]))\n",
    "print(paste('Degrees of freedom within the groups ',dof_within))"
   ]
  },
  {
   "cell_type": "code",
   "execution_count": 23,
   "metadata": {},
   "outputs": [
    {
     "data": {
      "text/html": [
       "<table>\n",
       "<thead><tr><th scope=col>Sepal.Length.Agg</th><th scope=col>Sepal.Width.Agg</th><th scope=col>Petal.Length.Agg</th><th scope=col>Petal.Width.Agg</th></tr></thead>\n",
       "<tbody>\n",
       "\t<tr><td>31.60607</td><td>5.672467</td><td>218.5514</td><td>40.20667</td></tr>\n",
       "</tbody>\n",
       "</table>\n"
      ],
      "text/latex": [
       "\\begin{tabular}{llll}\n",
       " Sepal.Length.Agg & Sepal.Width.Agg & Petal.Length.Agg & Petal.Width.Agg\\\\\n",
       "\\hline\n",
       "\t 31.60607 & 5.672467 & 218.5514 & 40.20667\\\\\n",
       "\\end{tabular}\n"
      ],
      "text/markdown": [
       "\n",
       "Sepal.Length.Agg | Sepal.Width.Agg | Petal.Length.Agg | Petal.Width.Agg | \n",
       "|---|\n",
       "| 31.60607 | 5.672467 | 218.5514 | 40.20667 | \n",
       "\n",
       "\n"
      ],
      "text/plain": [
       "     Sepal.Length.Agg Sepal.Width.Agg Petal.Length.Agg Petal.Width.Agg\n",
       "[1,] 31.60607         5.672467        218.5514         40.20667       "
      ]
     },
     "metadata": {},
     "output_type": "display_data"
    },
    {
     "data": {
      "text/html": [
       "<table>\n",
       "<thead><tr><th scope=col>Sepal.Length</th><th scope=col>Sepal.Width</th><th scope=col>Petal.Length</th><th scope=col>Petal.Width</th></tr></thead>\n",
       "<tbody>\n",
       "\t<tr><td>0.2650082 </td><td>0.1153878 </td><td>0.1851878 </td><td>0.04188163</td></tr>\n",
       "</tbody>\n",
       "</table>\n"
      ],
      "text/latex": [
       "\\begin{tabular}{llll}\n",
       " Sepal.Length & Sepal.Width & Petal.Length & Petal.Width\\\\\n",
       "\\hline\n",
       "\t 0.2650082  & 0.1153878  & 0.1851878  & 0.04188163\\\\\n",
       "\\end{tabular}\n"
      ],
      "text/markdown": [
       "\n",
       "Sepal.Length | Sepal.Width | Petal.Length | Petal.Width | \n",
       "|---|\n",
       "| 0.2650082  | 0.1153878  | 0.1851878  | 0.04188163 | \n",
       "\n",
       "\n"
      ],
      "text/plain": [
       "     Sepal.Length Sepal.Width Petal.Length Petal.Width\n",
       "[1,] 0.2650082    0.1153878   0.1851878    0.04188163 "
      ]
     },
     "metadata": {},
     "output_type": "display_data"
    }
   ],
   "source": [
    "MS_between=ss_between/dof_between\n",
    "MS_between\n",
    "MS_within=ss_within/dof_within\n",
    "MS_within"
   ]
  },
  {
   "cell_type": "code",
   "execution_count": 24,
   "metadata": {},
   "outputs": [
    {
     "data": {
      "text/html": [
       "<table>\n",
       "<thead><tr><th scope=col>Sepal.Length.Agg</th><th scope=col>Sepal.Width.Agg</th><th scope=col>Petal.Length.Agg</th><th scope=col>Petal.Width.Agg</th></tr></thead>\n",
       "<tbody>\n",
       "\t<tr><td>119.2645</td><td>49.16004</td><td>1180.161</td><td>960.0071</td></tr>\n",
       "</tbody>\n",
       "</table>\n"
      ],
      "text/latex": [
       "\\begin{tabular}{llll}\n",
       " Sepal.Length.Agg & Sepal.Width.Agg & Petal.Length.Agg & Petal.Width.Agg\\\\\n",
       "\\hline\n",
       "\t 119.2645 & 49.16004 & 1180.161 & 960.0071\\\\\n",
       "\\end{tabular}\n"
      ],
      "text/markdown": [
       "\n",
       "Sepal.Length.Agg | Sepal.Width.Agg | Petal.Length.Agg | Petal.Width.Agg | \n",
       "|---|\n",
       "| 119.2645 | 49.16004 | 1180.161 | 960.0071 | \n",
       "\n",
       "\n"
      ],
      "text/plain": [
       "     Sepal.Length.Agg Sepal.Width.Agg Petal.Length.Agg Petal.Width.Agg\n",
       "[1,] 119.2645         49.16004        1180.161         960.0071       "
      ]
     },
     "metadata": {},
     "output_type": "display_data"
    }
   ],
   "source": [
    "f_stat=MS_between/MS_within\n",
    "f_stat"
   ]
  },
  {
   "cell_type": "markdown",
   "metadata": {},
   "source": [
    "We finally have the F values which are then compared to critical values.\n",
    "Lets move on to R's iternal implementation for the same "
   ]
  },
  {
   "cell_type": "code",
   "execution_count": 25,
   "metadata": {},
   "outputs": [
    {
     "data": {
      "text/plain": [
       "              Df Sum Sq Mean Sq F value Pr(>F)    \n",
       "iris$Species   2  63.21  31.606   119.3 <2e-16 ***\n",
       "Residuals    147  38.96   0.265                   \n",
       "---\n",
       "Signif. codes:  0 '***' 0.001 '**' 0.01 '*' 0.05 '.' 0.1 ' ' 1"
      ]
     },
     "metadata": {},
     "output_type": "display_data"
    }
   ],
   "source": [
    "Sepal.Length.aov <- aov(formula = iris$Sepal.Length ~ iris$Species, data = iris)\n",
    "summary(Sepal.Length.aov)"
   ]
  },
  {
   "cell_type": "code",
   "execution_count": 26,
   "metadata": {},
   "outputs": [
    {
     "data": {
      "text/plain": [
       "              Df Sum Sq Mean Sq F value Pr(>F)    \n",
       "iris$Species   2  11.35   5.672   49.16 <2e-16 ***\n",
       "Residuals    147  16.96   0.115                   \n",
       "---\n",
       "Signif. codes:  0 '***' 0.001 '**' 0.01 '*' 0.05 '.' 0.1 ' ' 1"
      ]
     },
     "metadata": {},
     "output_type": "display_data"
    }
   ],
   "source": [
    "Sepal.Width.aov <- aov(formula = iris$Sepal.Width ~ iris$Species, data = iris)\n",
    "summary(Sepal.Width.aov)"
   ]
  },
  {
   "cell_type": "code",
   "execution_count": 27,
   "metadata": {},
   "outputs": [
    {
     "data": {
      "text/plain": [
       "              Df Sum Sq Mean Sq F value Pr(>F)    \n",
       "iris$Species   2  437.1  218.55    1180 <2e-16 ***\n",
       "Residuals    147   27.2    0.19                   \n",
       "---\n",
       "Signif. codes:  0 '***' 0.001 '**' 0.01 '*' 0.05 '.' 0.1 ' ' 1"
      ]
     },
     "metadata": {},
     "output_type": "display_data"
    }
   ],
   "source": [
    "Petal.Length.aov <- aov(formula = iris$Petal.Length ~ iris$Species, data = iris)\n",
    "summary(Petal.Length.aov)"
   ]
  },
  {
   "cell_type": "code",
   "execution_count": 28,
   "metadata": {},
   "outputs": [
    {
     "data": {
      "text/plain": [
       "              Df Sum Sq Mean Sq F value Pr(>F)    \n",
       "iris$Species   2  80.41   40.21     960 <2e-16 ***\n",
       "Residuals    147   6.16    0.04                   \n",
       "---\n",
       "Signif. codes:  0 '***' 0.001 '**' 0.01 '*' 0.05 '.' 0.1 ' ' 1"
      ]
     },
     "metadata": {},
     "output_type": "display_data"
    }
   ],
   "source": [
    "Petal.Width.aov <- aov(formula = iris$Petal.Width ~ iris$Species, data = iris)\n",
    "summary(Petal.Width.aov)"
   ]
  },
  {
   "cell_type": "markdown",
   "metadata": {},
   "source": [
    "We thus see that p value is very small in all the attributes.\n",
    "Thus we reject the null hypothesis for all attributes and state there is significant differnce between the groups."
   ]
  }
 ],
 "metadata": {
  "kernelspec": {
   "display_name": "R",
   "language": "R",
   "name": "ir"
  },
  "language_info": {
   "codemirror_mode": "r",
   "file_extension": ".r",
   "mimetype": "text/x-r-source",
   "name": "R",
   "pygments_lexer": "r",
   "version": "3.4.3"
  }
 },
 "nbformat": 4,
 "nbformat_minor": 2
}
